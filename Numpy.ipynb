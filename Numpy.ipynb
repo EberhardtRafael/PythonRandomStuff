{
 "cells": [
  {
   "cell_type": "code",
   "execution_count": 1,
   "metadata": {},
   "outputs": [],
   "source": [
    "import numpy as np\n",
    "import pandas as pd"
   ]
  },
  {
   "cell_type": "markdown",
   "metadata": {},
   "source": [
    "# Arrays"
   ]
  },
  {
   "cell_type": "code",
   "execution_count": 2,
   "metadata": {},
   "outputs": [],
   "source": [
    "ar = np.array([1, 2])"
   ]
  },
  {
   "cell_type": "code",
   "execution_count": 3,
   "metadata": {},
   "outputs": [
    {
     "data": {
      "text/plain": [
       "array([1, 2])"
      ]
     },
     "execution_count": 3,
     "metadata": {},
     "output_type": "execute_result"
    }
   ],
   "source": [
    "ar"
   ]
  },
  {
   "cell_type": "code",
   "execution_count": 4,
   "metadata": {},
   "outputs": [],
   "source": [
    "ar2 = np.array([[1,2,4],[1,4,5]])"
   ]
  },
  {
   "cell_type": "code",
   "execution_count": 5,
   "metadata": {},
   "outputs": [
    {
     "data": {
      "text/plain": [
       "array([[1, 2, 4],\n",
       "       [1, 4, 5]])"
      ]
     },
     "execution_count": 5,
     "metadata": {},
     "output_type": "execute_result"
    }
   ],
   "source": [
    "ar2"
   ]
  },
  {
   "cell_type": "code",
   "execution_count": 6,
   "metadata": {},
   "outputs": [],
   "source": [
    "ar3 = np.array([[[1,2,3],[3,4,5],[5,6,7]], \n",
    "                [[1,2,3],[3,4,5],[5,6,7]],\n",
    "               [[1,2,3],[3,4,5],[5,6,7]]])"
   ]
  },
  {
   "cell_type": "code",
   "execution_count": 7,
   "metadata": {},
   "outputs": [
    {
     "data": {
      "text/plain": [
       "array([[[1, 2, 3],\n",
       "        [3, 4, 5],\n",
       "        [5, 6, 7]],\n",
       "\n",
       "       [[1, 2, 3],\n",
       "        [3, 4, 5],\n",
       "        [5, 6, 7]],\n",
       "\n",
       "       [[1, 2, 3],\n",
       "        [3, 4, 5],\n",
       "        [5, 6, 7]]])"
      ]
     },
     "execution_count": 7,
     "metadata": {},
     "output_type": "execute_result"
    }
   ],
   "source": [
    "ar3"
   ]
  },
  {
   "cell_type": "code",
   "execution_count": 8,
   "metadata": {},
   "outputs": [
    {
     "data": {
      "text/plain": [
       "dtype('int64')"
      ]
     },
     "execution_count": 8,
     "metadata": {},
     "output_type": "execute_result"
    }
   ],
   "source": [
    "ar.dtype"
   ]
  },
  {
   "cell_type": "code",
   "execution_count": 9,
   "metadata": {},
   "outputs": [
    {
     "data": {
      "text/plain": [
       "(numpy.ndarray, numpy.ndarray, numpy.ndarray)"
      ]
     },
     "execution_count": 9,
     "metadata": {},
     "output_type": "execute_result"
    }
   ],
   "source": [
    "type(ar), type(ar2), type(ar3)"
   ]
  },
  {
   "cell_type": "code",
   "execution_count": 10,
   "metadata": {},
   "outputs": [],
   "source": [
    "ar4 = np.array([[[[ar3, ar3, ar3, ar3], [ar3, ar3,ar3, ar3]], [[ar3, ar3,ar3, ar3], [ar3, ar3,ar3, ar3]]], [[[ar3, ar3,ar3, ar3], [ar3, ar3,ar3, ar3]], [[ar3, ar3,ar3, ar3], [ar3, ar3,ar3, ar3]]]])"
   ]
  },
  {
   "cell_type": "code",
   "execution_count": 11,
   "metadata": {},
   "outputs": [
    {
     "data": {
      "text/plain": [
       "array([[[[[[[1, 2, 3],\n",
       "            [3, 4, 5],\n",
       "            [5, 6, 7]],\n",
       "\n",
       "           [[1, 2, 3],\n",
       "            [3, 4, 5],\n",
       "            [5, 6, 7]],\n",
       "\n",
       "           [[1, 2, 3],\n",
       "            [3, 4, 5],\n",
       "            [5, 6, 7]]],\n",
       "\n",
       "\n",
       "          [[[1, 2, 3],\n",
       "            [3, 4, 5],\n",
       "            [5, 6, 7]],\n",
       "\n",
       "           [[1, 2, 3],\n",
       "            [3, 4, 5],\n",
       "            [5, 6, 7]],\n",
       "\n",
       "           [[1, 2, 3],\n",
       "            [3, 4, 5],\n",
       "            [5, 6, 7]]],\n",
       "\n",
       "\n",
       "          [[[1, 2, 3],\n",
       "            [3, 4, 5],\n",
       "            [5, 6, 7]],\n",
       "\n",
       "           [[1, 2, 3],\n",
       "            [3, 4, 5],\n",
       "            [5, 6, 7]],\n",
       "\n",
       "           [[1, 2, 3],\n",
       "            [3, 4, 5],\n",
       "            [5, 6, 7]]],\n",
       "\n",
       "\n",
       "          [[[1, 2, 3],\n",
       "            [3, 4, 5],\n",
       "            [5, 6, 7]],\n",
       "\n",
       "           [[1, 2, 3],\n",
       "            [3, 4, 5],\n",
       "            [5, 6, 7]],\n",
       "\n",
       "           [[1, 2, 3],\n",
       "            [3, 4, 5],\n",
       "            [5, 6, 7]]]],\n",
       "\n",
       "\n",
       "\n",
       "         [[[[1, 2, 3],\n",
       "            [3, 4, 5],\n",
       "            [5, 6, 7]],\n",
       "\n",
       "           [[1, 2, 3],\n",
       "            [3, 4, 5],\n",
       "            [5, 6, 7]],\n",
       "\n",
       "           [[1, 2, 3],\n",
       "            [3, 4, 5],\n",
       "            [5, 6, 7]]],\n",
       "\n",
       "\n",
       "          [[[1, 2, 3],\n",
       "            [3, 4, 5],\n",
       "            [5, 6, 7]],\n",
       "\n",
       "           [[1, 2, 3],\n",
       "            [3, 4, 5],\n",
       "            [5, 6, 7]],\n",
       "\n",
       "           [[1, 2, 3],\n",
       "            [3, 4, 5],\n",
       "            [5, 6, 7]]],\n",
       "\n",
       "\n",
       "          [[[1, 2, 3],\n",
       "            [3, 4, 5],\n",
       "            [5, 6, 7]],\n",
       "\n",
       "           [[1, 2, 3],\n",
       "            [3, 4, 5],\n",
       "            [5, 6, 7]],\n",
       "\n",
       "           [[1, 2, 3],\n",
       "            [3, 4, 5],\n",
       "            [5, 6, 7]]],\n",
       "\n",
       "\n",
       "          [[[1, 2, 3],\n",
       "            [3, 4, 5],\n",
       "            [5, 6, 7]],\n",
       "\n",
       "           [[1, 2, 3],\n",
       "            [3, 4, 5],\n",
       "            [5, 6, 7]],\n",
       "\n",
       "           [[1, 2, 3],\n",
       "            [3, 4, 5],\n",
       "            [5, 6, 7]]]]],\n",
       "\n",
       "\n",
       "\n",
       "\n",
       "        [[[[[1, 2, 3],\n",
       "            [3, 4, 5],\n",
       "            [5, 6, 7]],\n",
       "\n",
       "           [[1, 2, 3],\n",
       "            [3, 4, 5],\n",
       "            [5, 6, 7]],\n",
       "\n",
       "           [[1, 2, 3],\n",
       "            [3, 4, 5],\n",
       "            [5, 6, 7]]],\n",
       "\n",
       "\n",
       "          [[[1, 2, 3],\n",
       "            [3, 4, 5],\n",
       "            [5, 6, 7]],\n",
       "\n",
       "           [[1, 2, 3],\n",
       "            [3, 4, 5],\n",
       "            [5, 6, 7]],\n",
       "\n",
       "           [[1, 2, 3],\n",
       "            [3, 4, 5],\n",
       "            [5, 6, 7]]],\n",
       "\n",
       "\n",
       "          [[[1, 2, 3],\n",
       "            [3, 4, 5],\n",
       "            [5, 6, 7]],\n",
       "\n",
       "           [[1, 2, 3],\n",
       "            [3, 4, 5],\n",
       "            [5, 6, 7]],\n",
       "\n",
       "           [[1, 2, 3],\n",
       "            [3, 4, 5],\n",
       "            [5, 6, 7]]],\n",
       "\n",
       "\n",
       "          [[[1, 2, 3],\n",
       "            [3, 4, 5],\n",
       "            [5, 6, 7]],\n",
       "\n",
       "           [[1, 2, 3],\n",
       "            [3, 4, 5],\n",
       "            [5, 6, 7]],\n",
       "\n",
       "           [[1, 2, 3],\n",
       "            [3, 4, 5],\n",
       "            [5, 6, 7]]]],\n",
       "\n",
       "\n",
       "\n",
       "         [[[[1, 2, 3],\n",
       "            [3, 4, 5],\n",
       "            [5, 6, 7]],\n",
       "\n",
       "           [[1, 2, 3],\n",
       "            [3, 4, 5],\n",
       "            [5, 6, 7]],\n",
       "\n",
       "           [[1, 2, 3],\n",
       "            [3, 4, 5],\n",
       "            [5, 6, 7]]],\n",
       "\n",
       "\n",
       "          [[[1, 2, 3],\n",
       "            [3, 4, 5],\n",
       "            [5, 6, 7]],\n",
       "\n",
       "           [[1, 2, 3],\n",
       "            [3, 4, 5],\n",
       "            [5, 6, 7]],\n",
       "\n",
       "           [[1, 2, 3],\n",
       "            [3, 4, 5],\n",
       "            [5, 6, 7]]],\n",
       "\n",
       "\n",
       "          [[[1, 2, 3],\n",
       "            [3, 4, 5],\n",
       "            [5, 6, 7]],\n",
       "\n",
       "           [[1, 2, 3],\n",
       "            [3, 4, 5],\n",
       "            [5, 6, 7]],\n",
       "\n",
       "           [[1, 2, 3],\n",
       "            [3, 4, 5],\n",
       "            [5, 6, 7]]],\n",
       "\n",
       "\n",
       "          [[[1, 2, 3],\n",
       "            [3, 4, 5],\n",
       "            [5, 6, 7]],\n",
       "\n",
       "           [[1, 2, 3],\n",
       "            [3, 4, 5],\n",
       "            [5, 6, 7]],\n",
       "\n",
       "           [[1, 2, 3],\n",
       "            [3, 4, 5],\n",
       "            [5, 6, 7]]]]]],\n",
       "\n",
       "\n",
       "\n",
       "\n",
       "\n",
       "       [[[[[[1, 2, 3],\n",
       "            [3, 4, 5],\n",
       "            [5, 6, 7]],\n",
       "\n",
       "           [[1, 2, 3],\n",
       "            [3, 4, 5],\n",
       "            [5, 6, 7]],\n",
       "\n",
       "           [[1, 2, 3],\n",
       "            [3, 4, 5],\n",
       "            [5, 6, 7]]],\n",
       "\n",
       "\n",
       "          [[[1, 2, 3],\n",
       "            [3, 4, 5],\n",
       "            [5, 6, 7]],\n",
       "\n",
       "           [[1, 2, 3],\n",
       "            [3, 4, 5],\n",
       "            [5, 6, 7]],\n",
       "\n",
       "           [[1, 2, 3],\n",
       "            [3, 4, 5],\n",
       "            [5, 6, 7]]],\n",
       "\n",
       "\n",
       "          [[[1, 2, 3],\n",
       "            [3, 4, 5],\n",
       "            [5, 6, 7]],\n",
       "\n",
       "           [[1, 2, 3],\n",
       "            [3, 4, 5],\n",
       "            [5, 6, 7]],\n",
       "\n",
       "           [[1, 2, 3],\n",
       "            [3, 4, 5],\n",
       "            [5, 6, 7]]],\n",
       "\n",
       "\n",
       "          [[[1, 2, 3],\n",
       "            [3, 4, 5],\n",
       "            [5, 6, 7]],\n",
       "\n",
       "           [[1, 2, 3],\n",
       "            [3, 4, 5],\n",
       "            [5, 6, 7]],\n",
       "\n",
       "           [[1, 2, 3],\n",
       "            [3, 4, 5],\n",
       "            [5, 6, 7]]]],\n",
       "\n",
       "\n",
       "\n",
       "         [[[[1, 2, 3],\n",
       "            [3, 4, 5],\n",
       "            [5, 6, 7]],\n",
       "\n",
       "           [[1, 2, 3],\n",
       "            [3, 4, 5],\n",
       "            [5, 6, 7]],\n",
       "\n",
       "           [[1, 2, 3],\n",
       "            [3, 4, 5],\n",
       "            [5, 6, 7]]],\n",
       "\n",
       "\n",
       "          [[[1, 2, 3],\n",
       "            [3, 4, 5],\n",
       "            [5, 6, 7]],\n",
       "\n",
       "           [[1, 2, 3],\n",
       "            [3, 4, 5],\n",
       "            [5, 6, 7]],\n",
       "\n",
       "           [[1, 2, 3],\n",
       "            [3, 4, 5],\n",
       "            [5, 6, 7]]],\n",
       "\n",
       "\n",
       "          [[[1, 2, 3],\n",
       "            [3, 4, 5],\n",
       "            [5, 6, 7]],\n",
       "\n",
       "           [[1, 2, 3],\n",
       "            [3, 4, 5],\n",
       "            [5, 6, 7]],\n",
       "\n",
       "           [[1, 2, 3],\n",
       "            [3, 4, 5],\n",
       "            [5, 6, 7]]],\n",
       "\n",
       "\n",
       "          [[[1, 2, 3],\n",
       "            [3, 4, 5],\n",
       "            [5, 6, 7]],\n",
       "\n",
       "           [[1, 2, 3],\n",
       "            [3, 4, 5],\n",
       "            [5, 6, 7]],\n",
       "\n",
       "           [[1, 2, 3],\n",
       "            [3, 4, 5],\n",
       "            [5, 6, 7]]]]],\n",
       "\n",
       "\n",
       "\n",
       "\n",
       "        [[[[[1, 2, 3],\n",
       "            [3, 4, 5],\n",
       "            [5, 6, 7]],\n",
       "\n",
       "           [[1, 2, 3],\n",
       "            [3, 4, 5],\n",
       "            [5, 6, 7]],\n",
       "\n",
       "           [[1, 2, 3],\n",
       "            [3, 4, 5],\n",
       "            [5, 6, 7]]],\n",
       "\n",
       "\n",
       "          [[[1, 2, 3],\n",
       "            [3, 4, 5],\n",
       "            [5, 6, 7]],\n",
       "\n",
       "           [[1, 2, 3],\n",
       "            [3, 4, 5],\n",
       "            [5, 6, 7]],\n",
       "\n",
       "           [[1, 2, 3],\n",
       "            [3, 4, 5],\n",
       "            [5, 6, 7]]],\n",
       "\n",
       "\n",
       "          [[[1, 2, 3],\n",
       "            [3, 4, 5],\n",
       "            [5, 6, 7]],\n",
       "\n",
       "           [[1, 2, 3],\n",
       "            [3, 4, 5],\n",
       "            [5, 6, 7]],\n",
       "\n",
       "           [[1, 2, 3],\n",
       "            [3, 4, 5],\n",
       "            [5, 6, 7]]],\n",
       "\n",
       "\n",
       "          [[[1, 2, 3],\n",
       "            [3, 4, 5],\n",
       "            [5, 6, 7]],\n",
       "\n",
       "           [[1, 2, 3],\n",
       "            [3, 4, 5],\n",
       "            [5, 6, 7]],\n",
       "\n",
       "           [[1, 2, 3],\n",
       "            [3, 4, 5],\n",
       "            [5, 6, 7]]]],\n",
       "\n",
       "\n",
       "\n",
       "         [[[[1, 2, 3],\n",
       "            [3, 4, 5],\n",
       "            [5, 6, 7]],\n",
       "\n",
       "           [[1, 2, 3],\n",
       "            [3, 4, 5],\n",
       "            [5, 6, 7]],\n",
       "\n",
       "           [[1, 2, 3],\n",
       "            [3, 4, 5],\n",
       "            [5, 6, 7]]],\n",
       "\n",
       "\n",
       "          [[[1, 2, 3],\n",
       "            [3, 4, 5],\n",
       "            [5, 6, 7]],\n",
       "\n",
       "           [[1, 2, 3],\n",
       "            [3, 4, 5],\n",
       "            [5, 6, 7]],\n",
       "\n",
       "           [[1, 2, 3],\n",
       "            [3, 4, 5],\n",
       "            [5, 6, 7]]],\n",
       "\n",
       "\n",
       "          [[[1, 2, 3],\n",
       "            [3, 4, 5],\n",
       "            [5, 6, 7]],\n",
       "\n",
       "           [[1, 2, 3],\n",
       "            [3, 4, 5],\n",
       "            [5, 6, 7]],\n",
       "\n",
       "           [[1, 2, 3],\n",
       "            [3, 4, 5],\n",
       "            [5, 6, 7]]],\n",
       "\n",
       "\n",
       "          [[[1, 2, 3],\n",
       "            [3, 4, 5],\n",
       "            [5, 6, 7]],\n",
       "\n",
       "           [[1, 2, 3],\n",
       "            [3, 4, 5],\n",
       "            [5, 6, 7]],\n",
       "\n",
       "           [[1, 2, 3],\n",
       "            [3, 4, 5],\n",
       "            [5, 6, 7]]]]]]])"
      ]
     },
     "execution_count": 11,
     "metadata": {},
     "output_type": "execute_result"
    }
   ],
   "source": [
    "ar4"
   ]
  },
  {
   "cell_type": "code",
   "execution_count": 12,
   "metadata": {},
   "outputs": [
    {
     "data": {
      "text/plain": [
       "((2,), (2, 3), (3, 3, 3), (2, 2, 2, 4, 3, 3, 3))"
      ]
     },
     "execution_count": 12,
     "metadata": {},
     "output_type": "execute_result"
    }
   ],
   "source": [
    "ar.shape, ar2.shape, ar3.shape, ar4.shape"
   ]
  },
  {
   "cell_type": "code",
   "execution_count": 13,
   "metadata": {},
   "outputs": [
    {
     "data": {
      "text/plain": [
       "(1, 2, 3, 7)"
      ]
     },
     "execution_count": 13,
     "metadata": {},
     "output_type": "execute_result"
    }
   ],
   "source": [
    "ar.ndim, ar2.ndim, ar3.ndim, ar4.ndim"
   ]
  },
  {
   "cell_type": "code",
   "execution_count": 14,
   "metadata": {},
   "outputs": [
    {
     "data": {
      "text/plain": [
       "(2, 6, 27, 864)"
      ]
     },
     "execution_count": 14,
     "metadata": {},
     "output_type": "execute_result"
    }
   ],
   "source": [
    "ar.size, ar2.size, ar3.size, ar4.size"
   ]
  },
  {
   "cell_type": "code",
   "execution_count": 15,
   "metadata": {},
   "outputs": [],
   "source": [
    "ar5 = np.array([[ar4], [ar4]])"
   ]
  },
  {
   "cell_type": "code",
   "execution_count": 16,
   "metadata": {},
   "outputs": [
    {
     "data": {
      "text/html": [
       "<div>\n",
       "<style scoped>\n",
       "    .dataframe tbody tr th:only-of-type {\n",
       "        vertical-align: middle;\n",
       "    }\n",
       "\n",
       "    .dataframe tbody tr th {\n",
       "        vertical-align: top;\n",
       "    }\n",
       "\n",
       "    .dataframe thead th {\n",
       "        text-align: right;\n",
       "    }\n",
       "</style>\n",
       "<table border=\"1\" class=\"dataframe\">\n",
       "  <thead>\n",
       "    <tr style=\"text-align: right;\">\n",
       "      <th></th>\n",
       "      <th>0</th>\n",
       "      <th>1</th>\n",
       "      <th>2</th>\n",
       "    </tr>\n",
       "  </thead>\n",
       "  <tbody>\n",
       "    <tr>\n",
       "      <th>0</th>\n",
       "      <td>1</td>\n",
       "      <td>2</td>\n",
       "      <td>4</td>\n",
       "    </tr>\n",
       "    <tr>\n",
       "      <th>1</th>\n",
       "      <td>1</td>\n",
       "      <td>4</td>\n",
       "      <td>5</td>\n",
       "    </tr>\n",
       "  </tbody>\n",
       "</table>\n",
       "</div>"
      ],
      "text/plain": [
       "   0  1  2\n",
       "0  1  2  4\n",
       "1  1  4  5"
      ]
     },
     "execution_count": 16,
     "metadata": {},
     "output_type": "execute_result"
    }
   ],
   "source": [
    "pd.DataFrame(ar2)"
   ]
  },
  {
   "cell_type": "markdown",
   "metadata": {},
   "source": [
    "# Criando Arrays"
   ]
  },
  {
   "cell_type": "markdown",
   "metadata": {},
   "source": [
    "### Completando com 1:"
   ]
  },
  {
   "cell_type": "code",
   "execution_count": 37,
   "metadata": {},
   "outputs": [],
   "source": [
    "um = np.ones((1, 2, 2)) #Dá pra fazer com zeros também."
   ]
  },
  {
   "cell_type": "code",
   "execution_count": 38,
   "metadata": {},
   "outputs": [
    {
     "data": {
      "text/plain": [
       "array([[[1., 1.],\n",
       "        [1., 1.]]])"
      ]
     },
     "execution_count": 38,
     "metadata": {},
     "output_type": "execute_result"
    }
   ],
   "source": [
    "um"
   ]
  },
  {
   "cell_type": "code",
   "execution_count": 39,
   "metadata": {},
   "outputs": [
    {
     "data": {
      "text/plain": [
       "(4, 3)"
      ]
     },
     "execution_count": 39,
     "metadata": {},
     "output_type": "execute_result"
    }
   ],
   "source": [
    "um.size, um.ndim"
   ]
  },
  {
   "cell_type": "markdown",
   "metadata": {},
   "source": [
    "### Povoando com números aleatórios:"
   ]
  },
  {
   "cell_type": "code",
   "execution_count": 40,
   "metadata": {},
   "outputs": [
    {
     "data": {
      "text/plain": [
       "array([ 1,  3,  5,  7,  9, 11, 13, 15, 17, 19])"
      ]
     },
     "execution_count": 40,
     "metadata": {},
     "output_type": "execute_result"
    }
   ],
   "source": [
    "np.arange(1, 20, 2)"
   ]
  },
  {
   "cell_type": "code",
   "execution_count": 41,
   "metadata": {},
   "outputs": [
    {
     "data": {
      "text/plain": [
       "array([[[26, 21, 27],\n",
       "        [13, 10, 14]],\n",
       "\n",
       "       [[ 1, 22, 10],\n",
       "        [ 3,  0, 28]]])"
      ]
     },
     "execution_count": 41,
     "metadata": {},
     "output_type": "execute_result"
    }
   ],
   "source": [
    "np.random.randint(0, 50, size = (2, 2, 3))"
   ]
  },
  {
   "cell_type": "code",
   "execution_count": null,
   "metadata": {},
   "outputs": [],
   "source": [
    "matriz = np.random.random((3,4))"
   ]
  },
  {
   "cell_type": "code",
   "execution_count": 155,
   "metadata": {},
   "outputs": [
    {
     "data": {
      "text/plain": [
       "array([[0.82868133, 0.04689632, 0.62628715, 0.54758616],\n",
       "       [0.819287  , 0.19894754, 0.8568503 , 0.35165264],\n",
       "       [0.75464769, 0.29596171, 0.88393648, 0.32551164]])"
      ]
     },
     "execution_count": 155,
     "metadata": {},
     "output_type": "execute_result"
    }
   ],
   "source": [
    "matriz"
   ]
  },
  {
   "cell_type": "code",
   "execution_count": 133,
   "metadata": {},
   "outputs": [],
   "source": [
    "rand = np.random.seed(seed = 10)"
   ]
  },
  {
   "cell_type": "code",
   "execution_count": 144,
   "metadata": {},
   "outputs": [
    {
     "data": {
      "text/plain": [
       "(49, 51)"
      ]
     },
     "execution_count": 144,
     "metadata": {},
     "output_type": "execute_result"
    }
   ],
   "source": [
    "a, b = np.random.randint(100), np.random.randint(100)\n",
    "a, b"
   ]
  },
  {
   "cell_type": "markdown",
   "metadata": {},
   "source": [
    "# Enxergando Arrays e Matrizes"
   ]
  },
  {
   "cell_type": "code",
   "execution_count": 173,
   "metadata": {},
   "outputs": [],
   "source": [
    "a = np.random.randint(10, size = 10)"
   ]
  },
  {
   "cell_type": "code",
   "execution_count": 174,
   "metadata": {},
   "outputs": [
    {
     "data": {
      "text/plain": [
       "array([8, 6, 6, 5, 6, 0, 0, 6, 9, 1])"
      ]
     },
     "execution_count": 174,
     "metadata": {},
     "output_type": "execute_result"
    }
   ],
   "source": [
    "a"
   ]
  },
  {
   "cell_type": "code",
   "execution_count": 175,
   "metadata": {},
   "outputs": [
    {
     "data": {
      "text/plain": [
       "array([0, 1, 5, 6, 8, 9])"
      ]
     },
     "execution_count": 175,
     "metadata": {},
     "output_type": "execute_result"
    }
   ],
   "source": [
    "np.unique(a)"
   ]
  },
  {
   "cell_type": "code",
   "execution_count": 176,
   "metadata": {},
   "outputs": [
    {
     "data": {
      "text/plain": [
       "0"
      ]
     },
     "execution_count": 176,
     "metadata": {},
     "output_type": "execute_result"
    }
   ],
   "source": [
    "a.min()"
   ]
  },
  {
   "cell_type": "code",
   "execution_count": 177,
   "metadata": {},
   "outputs": [
    {
     "data": {
      "text/plain": [
       "(0.04689631938924976, 0.1989475396788123)"
      ]
     },
     "execution_count": 177,
     "metadata": {},
     "output_type": "execute_result"
    }
   ],
   "source": [
    "matriz.min(), matriz[1].min()"
   ]
  },
  {
   "cell_type": "code",
   "execution_count": 178,
   "metadata": {},
   "outputs": [
    {
     "data": {
      "text/plain": [
       "(array([[0.82868133, 0.04689632, 0.62628715, 0.54758616],\n",
       "        [0.819287  , 0.19894754, 0.8568503 , 0.35165264],\n",
       "        [0.75464769, 0.29596171, 0.88393648, 0.32551164]]),\n",
       " array([[0.19894754, 0.8568503 ],\n",
       "        [0.29596171, 0.88393648]]))"
      ]
     },
     "execution_count": 178,
     "metadata": {},
     "output_type": "execute_result"
    }
   ],
   "source": [
    "matriz, matriz[1:3, 1:3],"
   ]
  },
  {
   "cell_type": "markdown",
   "metadata": {},
   "source": []
  },
  {
   "cell_type": "markdown",
   "metadata": {},
   "source": [
    "$x=\\frac{10}{2}$"
   ]
  },
  {
   "cell_type": "markdown",
   "metadata": {},
   "source": [
    "Eu não sei como surgiu a linha \"Type Markdown and LaTeX: 𝛼2\". Mas fez eu me dar conta de que posso usar alguns comandos LateX aqui dentro, o que é foda."
   ]
  },
  {
   "cell_type": "code",
   "execution_count": 183,
   "metadata": {},
   "outputs": [
    {
     "data": {
      "text/plain": [
       "array([[[1, 2, 3],\n",
       "        [3, 4, 5],\n",
       "        [5, 6, 7]],\n",
       "\n",
       "       [[1, 2, 3],\n",
       "        [3, 4, 5],\n",
       "        [5, 6, 7]],\n",
       "\n",
       "       [[1, 2, 3],\n",
       "        [3, 4, 5],\n",
       "        [5, 6, 7]]])"
      ]
     },
     "execution_count": 183,
     "metadata": {},
     "output_type": "execute_result"
    }
   ],
   "source": [
    "ar3"
   ]
  },
  {
   "cell_type": "code",
   "execution_count": 550,
   "metadata": {},
   "outputs": [
    {
     "data": {
      "text/plain": [
       "array([2, 3])"
      ]
     },
     "execution_count": 550,
     "metadata": {},
     "output_type": "execute_result"
    }
   ],
   "source": [
    "ar3[1][0][1:3]"
   ]
  },
  {
   "cell_type": "code",
   "execution_count": 210,
   "metadata": {},
   "outputs": [],
   "source": [
    "cu = pd.DataFrame({'A': range(10), 'B': range(20,30)})"
   ]
  },
  {
   "cell_type": "code",
   "execution_count": 211,
   "metadata": {},
   "outputs": [
    {
     "data": {
      "text/html": [
       "<div>\n",
       "<style scoped>\n",
       "    .dataframe tbody tr th:only-of-type {\n",
       "        vertical-align: middle;\n",
       "    }\n",
       "\n",
       "    .dataframe tbody tr th {\n",
       "        vertical-align: top;\n",
       "    }\n",
       "\n",
       "    .dataframe thead th {\n",
       "        text-align: right;\n",
       "    }\n",
       "</style>\n",
       "<table border=\"1\" class=\"dataframe\">\n",
       "  <thead>\n",
       "    <tr style=\"text-align: right;\">\n",
       "      <th></th>\n",
       "      <th>A</th>\n",
       "      <th>B</th>\n",
       "    </tr>\n",
       "  </thead>\n",
       "  <tbody>\n",
       "    <tr>\n",
       "      <th>0</th>\n",
       "      <td>0</td>\n",
       "      <td>20</td>\n",
       "    </tr>\n",
       "    <tr>\n",
       "      <th>1</th>\n",
       "      <td>1</td>\n",
       "      <td>21</td>\n",
       "    </tr>\n",
       "    <tr>\n",
       "      <th>2</th>\n",
       "      <td>2</td>\n",
       "      <td>22</td>\n",
       "    </tr>\n",
       "    <tr>\n",
       "      <th>3</th>\n",
       "      <td>3</td>\n",
       "      <td>23</td>\n",
       "    </tr>\n",
       "    <tr>\n",
       "      <th>4</th>\n",
       "      <td>4</td>\n",
       "      <td>24</td>\n",
       "    </tr>\n",
       "    <tr>\n",
       "      <th>5</th>\n",
       "      <td>5</td>\n",
       "      <td>25</td>\n",
       "    </tr>\n",
       "    <tr>\n",
       "      <th>6</th>\n",
       "      <td>6</td>\n",
       "      <td>26</td>\n",
       "    </tr>\n",
       "    <tr>\n",
       "      <th>7</th>\n",
       "      <td>7</td>\n",
       "      <td>27</td>\n",
       "    </tr>\n",
       "    <tr>\n",
       "      <th>8</th>\n",
       "      <td>8</td>\n",
       "      <td>28</td>\n",
       "    </tr>\n",
       "    <tr>\n",
       "      <th>9</th>\n",
       "      <td>9</td>\n",
       "      <td>29</td>\n",
       "    </tr>\n",
       "  </tbody>\n",
       "</table>\n",
       "</div>"
      ],
      "text/plain": [
       "   A   B\n",
       "0  0  20\n",
       "1  1  21\n",
       "2  2  22\n",
       "3  3  23\n",
       "4  4  24\n",
       "5  5  25\n",
       "6  6  26\n",
       "7  7  27\n",
       "8  8  28\n",
       "9  9  29"
      ]
     },
     "execution_count": 211,
     "metadata": {},
     "output_type": "execute_result"
    }
   ],
   "source": [
    "cu"
   ]
  },
  {
   "cell_type": "code",
   "execution_count": 215,
   "metadata": {},
   "outputs": [
    {
     "data": {
      "text/plain": [
       "(array([[ 0, 20],\n",
       "        [ 1, 21],\n",
       "        [ 2, 22],\n",
       "        [ 3, 23],\n",
       "        [ 4, 24],\n",
       "        [ 5, 25],\n",
       "        [ 6, 26],\n",
       "        [ 7, 27],\n",
       "        [ 8, 28],\n",
       "        [ 9, 29]]), array([ 1, 21]))"
      ]
     },
     "execution_count": 215,
     "metadata": {},
     "output_type": "execute_result"
    }
   ],
   "source": [
    "np.array(cu), np.array(cu)[1]"
   ]
  },
  {
   "cell_type": "markdown",
   "metadata": {},
   "source": [
    "# Manipulando Arrays"
   ]
  },
  {
   "cell_type": "code",
   "execution_count": 218,
   "metadata": {},
   "outputs": [],
   "source": [
    "a = np.array([1, 3, 4])"
   ]
  },
  {
   "cell_type": "code",
   "execution_count": 219,
   "metadata": {},
   "outputs": [
    {
     "data": {
      "text/plain": [
       "array([1, 3, 4])"
      ]
     },
     "execution_count": 219,
     "metadata": {},
     "output_type": "execute_result"
    }
   ],
   "source": [
    "a"
   ]
  },
  {
   "cell_type": "code",
   "execution_count": 225,
   "metadata": {},
   "outputs": [],
   "source": [
    "b = np.ones(3)*2"
   ]
  },
  {
   "cell_type": "code",
   "execution_count": 226,
   "metadata": {},
   "outputs": [
    {
     "data": {
      "text/plain": [
       "array([2., 2., 2.])"
      ]
     },
     "execution_count": 226,
     "metadata": {},
     "output_type": "execute_result"
    }
   ],
   "source": [
    "b"
   ]
  },
  {
   "cell_type": "code",
   "execution_count": 232,
   "metadata": {},
   "outputs": [
    {
     "data": {
      "text/plain": [
       "(array([-1.,  1.,  2.]), array([1., 1., 2.]))"
      ]
     },
     "execution_count": 232,
     "metadata": {},
     "output_type": "execute_result"
    }
   ],
   "source": [
    "a-b, abs(a-b)"
   ]
  },
  {
   "cell_type": "code",
   "execution_count": 237,
   "metadata": {},
   "outputs": [
    {
     "data": {
      "text/plain": [
       "array([[[ 1,  6, 12],\n",
       "        [ 3, 12, 20],\n",
       "        [ 5, 18, 28]],\n",
       "\n",
       "       [[ 1,  6, 12],\n",
       "        [ 3, 12, 20],\n",
       "        [ 5, 18, 28]],\n",
       "\n",
       "       [[ 1,  6, 12],\n",
       "        [ 3, 12, 20],\n",
       "        [ 5, 18, 28]]])"
      ]
     },
     "execution_count": 237,
     "metadata": {},
     "output_type": "execute_result"
    }
   ],
   "source": [
    "a*ar3"
   ]
  },
  {
   "cell_type": "code",
   "execution_count": 322,
   "metadata": {},
   "outputs": [],
   "source": [
    "matriz1 = np.array([[5, 6, 7], [7, 8, 9], [10, 11, 12]])"
   ]
  },
  {
   "cell_type": "code",
   "execution_count": 323,
   "metadata": {},
   "outputs": [
    {
     "data": {
      "text/plain": [
       "array([[ 5,  6,  7],\n",
       "       [ 7,  8,  9],\n",
       "       [10, 11, 12]])"
      ]
     },
     "execution_count": 323,
     "metadata": {},
     "output_type": "execute_result"
    }
   ],
   "source": [
    "matriz1"
   ]
  },
  {
   "cell_type": "code",
   "execution_count": 324,
   "metadata": {},
   "outputs": [],
   "source": [
    "matriz2 = np.array([[1, 2, 3], [3, 4, 5], [6, 7, 8]                              \n",
    "                   ]) "
   ]
  },
  {
   "cell_type": "code",
   "execution_count": 325,
   "metadata": {},
   "outputs": [
    {
     "data": {
      "text/plain": [
       "array([[1, 2, 3],\n",
       "       [3, 4, 5],\n",
       "       [6, 7, 8]])"
      ]
     },
     "execution_count": 325,
     "metadata": {},
     "output_type": "execute_result"
    }
   ],
   "source": [
    "matriz2"
   ]
  },
  {
   "cell_type": "code",
   "execution_count": 326,
   "metadata": {},
   "outputs": [
    {
     "data": {
      "text/plain": [
       "((3, 3), (3, 3))"
      ]
     },
     "execution_count": 326,
     "metadata": {},
     "output_type": "execute_result"
    }
   ],
   "source": [
    "matriz1.shape, matriz2.shape"
   ]
  },
  {
   "cell_type": "markdown",
   "metadata": {},
   "source": [
    "#### Multiplicar usando * não é o mesmo que multiplicação matricial!"
   ]
  },
  {
   "cell_type": "code",
   "execution_count": 327,
   "metadata": {},
   "outputs": [
    {
     "data": {
      "text/plain": [
       "array([[ 5, 12, 21],\n",
       "       [21, 32, 45],\n",
       "       [60, 77, 96]])"
      ]
     },
     "execution_count": 327,
     "metadata": {},
     "output_type": "execute_result"
    }
   ],
   "source": [
    "matriz1*matriz2"
   ]
  },
  {
   "cell_type": "markdown",
   "metadata": {},
   "source": [
    "#### Esse tipo de multiplicação é comutativo.\n"
   ]
  },
  {
   "cell_type": "code",
   "execution_count": 328,
   "metadata": {},
   "outputs": [
    {
     "data": {
      "text/plain": [
       "array([[ 5, 12, 21],\n",
       "       [21, 32, 45],\n",
       "       [60, 77, 96]])"
      ]
     },
     "execution_count": 328,
     "metadata": {},
     "output_type": "execute_result"
    }
   ],
   "source": [
    "matriz2*matriz1"
   ]
  },
  {
   "cell_type": "markdown",
   "metadata": {},
   "source": [
    "### Multiplicação matricial é feito por meio de dot:"
   ]
  },
  {
   "cell_type": "code",
   "execution_count": 329,
   "metadata": {},
   "outputs": [
    {
     "data": {
      "text/plain": [
       "array([[ 65,  83, 101],\n",
       "       [ 85, 109, 133],\n",
       "       [115, 148, 181]])"
      ]
     },
     "execution_count": 329,
     "metadata": {},
     "output_type": "execute_result"
    }
   ],
   "source": [
    "np.dot(matriz1, matriz2)"
   ]
  },
  {
   "cell_type": "code",
   "execution_count": 330,
   "metadata": {},
   "outputs": [
    {
     "data": {
      "text/plain": [
       "array([[ 49,  55,  61],\n",
       "       [ 93, 105, 117],\n",
       "       [159, 180, 201]])"
      ]
     },
     "execution_count": 330,
     "metadata": {},
     "output_type": "execute_result"
    }
   ],
   "source": [
    "np.dot(matriz2, matriz1)"
   ]
  },
  {
   "cell_type": "code",
   "execution_count": 344,
   "metadata": {},
   "outputs": [],
   "source": [
    "ar = np.array([[1], [2], [3]])\n",
    "ar1 = np.array([1, 2, 3])"
   ]
  },
  {
   "cell_type": "code",
   "execution_count": 345,
   "metadata": {},
   "outputs": [
    {
     "data": {
      "text/plain": [
       "(array([[1],\n",
       "        [2],\n",
       "        [3]]), array([1, 2, 3]))"
      ]
     },
     "execution_count": 345,
     "metadata": {},
     "output_type": "execute_result"
    }
   ],
   "source": [
    "ar, ar1"
   ]
  },
  {
   "cell_type": "code",
   "execution_count": 346,
   "metadata": {},
   "outputs": [
    {
     "data": {
      "text/plain": [
       "((3, 1), (3,))"
      ]
     },
     "execution_count": 346,
     "metadata": {},
     "output_type": "execute_result"
    }
   ],
   "source": [
    "ar.shape, ar1.shape"
   ]
  },
  {
   "cell_type": "code",
   "execution_count": 347,
   "metadata": {},
   "outputs": [
    {
     "data": {
      "text/plain": [
       "array([49, 55, 61])"
      ]
     },
     "execution_count": 347,
     "metadata": {},
     "output_type": "execute_result"
    }
   ],
   "source": [
    "np.dot(ar1, matriz1)"
   ]
  },
  {
   "cell_type": "code",
   "execution_count": 349,
   "metadata": {},
   "outputs": [
    {
     "data": {
      "text/plain": [
       "array([[38],\n",
       "       [50],\n",
       "       [68]])"
      ]
     },
     "execution_count": 349,
     "metadata": {},
     "output_type": "execute_result"
    }
   ],
   "source": [
    "np.dot(matriz1, ar)"
   ]
  },
  {
   "cell_type": "markdown",
   "metadata": {},
   "source": [
    "# Reshape e Transposto"
   ]
  },
  {
   "cell_type": "code",
   "execution_count": 361,
   "metadata": {},
   "outputs": [
    {
     "data": {
      "text/plain": [
       "(3,)"
      ]
     },
     "execution_count": 361,
     "metadata": {},
     "output_type": "execute_result"
    }
   ],
   "source": [
    "a.shape"
   ]
  },
  {
   "cell_type": "code",
   "execution_count": 360,
   "metadata": {},
   "outputs": [
    {
     "data": {
      "text/plain": [
       "array([1, 3, 4])"
      ]
     },
     "execution_count": 360,
     "metadata": {},
     "output_type": "execute_result"
    }
   ],
   "source": [
    "a"
   ]
  },
  {
   "cell_type": "markdown",
   "metadata": {},
   "source": [
    "### Mudando o formato do array:"
   ]
  },
  {
   "cell_type": "markdown",
   "metadata": {},
   "source": [
    "#### Mantendo a mesma informação!"
   ]
  },
  {
   "cell_type": "code",
   "execution_count": 370,
   "metadata": {},
   "outputs": [
    {
     "data": {
      "text/plain": [
       "array([[1],\n",
       "       [3],\n",
       "       [4]])"
      ]
     },
     "execution_count": 370,
     "metadata": {},
     "output_type": "execute_result"
    }
   ],
   "source": [
    "a.reshape(3,1)"
   ]
  },
  {
   "cell_type": "code",
   "execution_count": 372,
   "metadata": {},
   "outputs": [
    {
     "data": {
      "text/plain": [
       "array([[[1]],\n",
       "\n",
       "       [[3]],\n",
       "\n",
       "       [[4]]])"
      ]
     },
     "execution_count": 372,
     "metadata": {},
     "output_type": "execute_result"
    }
   ],
   "source": [
    "a.reshape(3,1,1)"
   ]
  },
  {
   "cell_type": "code",
   "execution_count": 379,
   "metadata": {},
   "outputs": [
    {
     "ename": "ValueError",
     "evalue": "cannot reshape array of size 3 into shape (3,2)",
     "output_type": "error",
     "traceback": [
      "\u001b[0;31m---------------------------------------------------------------------------\u001b[0m",
      "\u001b[0;31mValueError\u001b[0m                                Traceback (most recent call last)",
      "\u001b[0;32m<ipython-input-379-aa38b20efb1e>\u001b[0m in \u001b[0;36m<module>\u001b[0;34m\u001b[0m\n\u001b[0;32m----> 1\u001b[0;31m \u001b[0ma\u001b[0m\u001b[0;34m.\u001b[0m\u001b[0mreshape\u001b[0m\u001b[0;34m(\u001b[0m\u001b[0;36m3\u001b[0m\u001b[0;34m,\u001b[0m\u001b[0;36m2\u001b[0m\u001b[0;34m)\u001b[0m \u001b[0;31m#Não funciona, porque não tem informação o suficiente\u001b[0m\u001b[0;34m\u001b[0m\u001b[0;34m\u001b[0m\u001b[0m\n\u001b[0m",
      "\u001b[0;31mValueError\u001b[0m: cannot reshape array of size 3 into shape (3,2)"
     ]
    }
   ],
   "source": [
    "a.reshape(3,2) #Não funciona, porque não tem informação o suficiente"
   ]
  },
  {
   "cell_type": "code",
   "execution_count": 380,
   "metadata": {},
   "outputs": [
    {
     "data": {
      "text/plain": [
       "array([[1, 3, 4]])"
      ]
     },
     "execution_count": 380,
     "metadata": {},
     "output_type": "execute_result"
    }
   ],
   "source": [
    "a.reshape(1,3)"
   ]
  },
  {
   "cell_type": "markdown",
   "metadata": {},
   "source": [
    "### Transposto"
   ]
  },
  {
   "cell_type": "code",
   "execution_count": 391,
   "metadata": {},
   "outputs": [
    {
     "data": {
      "text/plain": [
       "(array([[[1, 2, 3],\n",
       "         [3, 4, 5],\n",
       "         [5, 6, 7]],\n",
       " \n",
       "        [[1, 2, 3],\n",
       "         [3, 4, 5],\n",
       "         [5, 6, 7]],\n",
       " \n",
       "        [[1, 2, 3],\n",
       "         [3, 4, 5],\n",
       "         [5, 6, 7]]]), (3, 3, 3))"
      ]
     },
     "execution_count": 391,
     "metadata": {},
     "output_type": "execute_result"
    }
   ],
   "source": [
    "ar3, ar3.shape"
   ]
  },
  {
   "cell_type": "code",
   "execution_count": 392,
   "metadata": {},
   "outputs": [
    {
     "data": {
      "text/plain": [
       "(array([[[1, 1, 1],\n",
       "         [3, 3, 3],\n",
       "         [5, 5, 5]],\n",
       " \n",
       "        [[2, 2, 2],\n",
       "         [4, 4, 4],\n",
       "         [6, 6, 6]],\n",
       " \n",
       "        [[3, 3, 3],\n",
       "         [5, 5, 5],\n",
       "         [7, 7, 7]]]), (3, 3, 3))"
      ]
     },
     "execution_count": 392,
     "metadata": {},
     "output_type": "execute_result"
    }
   ],
   "source": [
    "ar3.T, ar3.T.shape"
   ]
  },
  {
   "cell_type": "code",
   "execution_count": 393,
   "metadata": {},
   "outputs": [
    {
     "data": {
      "text/plain": [
       "(array([[1, 2, 4],\n",
       "        [1, 4, 5]]), (2, 3))"
      ]
     },
     "execution_count": 393,
     "metadata": {},
     "output_type": "execute_result"
    }
   ],
   "source": [
    "ar2, ar2.shape"
   ]
  },
  {
   "cell_type": "code",
   "execution_count": 394,
   "metadata": {},
   "outputs": [
    {
     "data": {
      "text/plain": [
       "(array([[1, 1],\n",
       "        [2, 4],\n",
       "        [4, 5]]), (3, 2))"
      ]
     },
     "execution_count": 394,
     "metadata": {},
     "output_type": "execute_result"
    }
   ],
   "source": [
    "ar2.T, ar2.T.shape"
   ]
  },
  {
   "cell_type": "code",
   "execution_count": 396,
   "metadata": {},
   "outputs": [
    {
     "data": {
      "text/plain": [
       "array([1, 3, 4])"
      ]
     },
     "execution_count": 396,
     "metadata": {},
     "output_type": "execute_result"
    }
   ],
   "source": [
    "a"
   ]
  },
  {
   "cell_type": "code",
   "execution_count": 402,
   "metadata": {},
   "outputs": [
    {
     "data": {
      "text/plain": [
       "array([[[ 1,  2,  3],\n",
       "        [ 6,  8, 10],\n",
       "        [15, 18, 21]],\n",
       "\n",
       "       [[ 1,  2,  3],\n",
       "        [ 6,  8, 10],\n",
       "        [15, 18, 21]],\n",
       "\n",
       "       [[ 1,  2,  3],\n",
       "        [ 6,  8, 10],\n",
       "        [15, 18, 21]]])"
      ]
     },
     "execution_count": 402,
     "metadata": {},
     "output_type": "execute_result"
    }
   ],
   "source": [
    "ar*ar3"
   ]
  },
  {
   "cell_type": "code",
   "execution_count": 403,
   "metadata": {},
   "outputs": [
    {
     "data": {
      "text/plain": [
       "array([[[1, 2, 3],\n",
       "        [3, 4, 5],\n",
       "        [5, 6, 7]],\n",
       "\n",
       "       [[1, 2, 3],\n",
       "        [3, 4, 5],\n",
       "        [5, 6, 7]],\n",
       "\n",
       "       [[1, 2, 3],\n",
       "        [3, 4, 5],\n",
       "        [5, 6, 7]]])"
      ]
     },
     "execution_count": 403,
     "metadata": {},
     "output_type": "execute_result"
    }
   ],
   "source": [
    "ar3"
   ]
  },
  {
   "cell_type": "code",
   "execution_count": 404,
   "metadata": {},
   "outputs": [
    {
     "data": {
      "text/plain": [
       "array([[1],\n",
       "       [2],\n",
       "       [3]])"
      ]
     },
     "execution_count": 404,
     "metadata": {},
     "output_type": "execute_result"
    }
   ],
   "source": [
    "ar"
   ]
  },
  {
   "cell_type": "markdown",
   "metadata": {},
   "source": [
    "### Exemplo de multiplicação matricial na vida real"
   ]
  },
  {
   "cell_type": "code",
   "execution_count": 417,
   "metadata": {},
   "outputs": [],
   "source": [
    "vendas = pd.DataFrame({'Almond butter': [2, 9, 11, 13, 15], 'Peanut butter': [7, 4, 14, 13, 18], 'Cashew butter': [1, 16, 18, 16, 9]}, index = ['Mon', 'Tues', 'Wed', 'Thurs', 'Fri'])"
   ]
  },
  {
   "cell_type": "code",
   "execution_count": 418,
   "metadata": {},
   "outputs": [
    {
     "data": {
      "text/html": [
       "<div>\n",
       "<style scoped>\n",
       "    .dataframe tbody tr th:only-of-type {\n",
       "        vertical-align: middle;\n",
       "    }\n",
       "\n",
       "    .dataframe tbody tr th {\n",
       "        vertical-align: top;\n",
       "    }\n",
       "\n",
       "    .dataframe thead th {\n",
       "        text-align: right;\n",
       "    }\n",
       "</style>\n",
       "<table border=\"1\" class=\"dataframe\">\n",
       "  <thead>\n",
       "    <tr style=\"text-align: right;\">\n",
       "      <th></th>\n",
       "      <th>Almond butter</th>\n",
       "      <th>Peanut butter</th>\n",
       "      <th>Cashew butter</th>\n",
       "    </tr>\n",
       "  </thead>\n",
       "  <tbody>\n",
       "    <tr>\n",
       "      <th>Mon</th>\n",
       "      <td>2</td>\n",
       "      <td>7</td>\n",
       "      <td>1</td>\n",
       "    </tr>\n",
       "    <tr>\n",
       "      <th>Tues</th>\n",
       "      <td>9</td>\n",
       "      <td>4</td>\n",
       "      <td>16</td>\n",
       "    </tr>\n",
       "    <tr>\n",
       "      <th>Wed</th>\n",
       "      <td>11</td>\n",
       "      <td>14</td>\n",
       "      <td>18</td>\n",
       "    </tr>\n",
       "    <tr>\n",
       "      <th>Thurs</th>\n",
       "      <td>13</td>\n",
       "      <td>13</td>\n",
       "      <td>16</td>\n",
       "    </tr>\n",
       "    <tr>\n",
       "      <th>Fri</th>\n",
       "      <td>15</td>\n",
       "      <td>18</td>\n",
       "      <td>9</td>\n",
       "    </tr>\n",
       "  </tbody>\n",
       "</table>\n",
       "</div>"
      ],
      "text/plain": [
       "       Almond butter  Peanut butter  Cashew butter\n",
       "Mon                2              7              1\n",
       "Tues               9              4             16\n",
       "Wed               11             14             18\n",
       "Thurs             13             13             16\n",
       "Fri               15             18              9"
      ]
     },
     "execution_count": 418,
     "metadata": {},
     "output_type": "execute_result"
    }
   ],
   "source": [
    "vendas"
   ]
  },
  {
   "cell_type": "code",
   "execution_count": 425,
   "metadata": {},
   "outputs": [],
   "source": [
    "precos = pd.DataFrame({'Almond butter': [10], 'Peanut butter': [8], 'Cashew butter': [12]}, index = ['Preço'])"
   ]
  },
  {
   "cell_type": "code",
   "execution_count": 426,
   "metadata": {},
   "outputs": [
    {
     "data": {
      "text/html": [
       "<div>\n",
       "<style scoped>\n",
       "    .dataframe tbody tr th:only-of-type {\n",
       "        vertical-align: middle;\n",
       "    }\n",
       "\n",
       "    .dataframe tbody tr th {\n",
       "        vertical-align: top;\n",
       "    }\n",
       "\n",
       "    .dataframe thead th {\n",
       "        text-align: right;\n",
       "    }\n",
       "</style>\n",
       "<table border=\"1\" class=\"dataframe\">\n",
       "  <thead>\n",
       "    <tr style=\"text-align: right;\">\n",
       "      <th></th>\n",
       "      <th>Almond butter</th>\n",
       "      <th>Peanut butter</th>\n",
       "      <th>Cashew butter</th>\n",
       "    </tr>\n",
       "  </thead>\n",
       "  <tbody>\n",
       "    <tr>\n",
       "      <th>Preço</th>\n",
       "      <td>10</td>\n",
       "      <td>8</td>\n",
       "      <td>12</td>\n",
       "    </tr>\n",
       "  </tbody>\n",
       "</table>\n",
       "</div>"
      ],
      "text/plain": [
       "       Almond butter  Peanut butter  Cashew butter\n",
       "Preço             10              8             12"
      ]
     },
     "execution_count": 426,
     "metadata": {},
     "output_type": "execute_result"
    }
   ],
   "source": [
    "precos"
   ]
  },
  {
   "cell_type": "code",
   "execution_count": 427,
   "metadata": {},
   "outputs": [],
   "source": [
    "matriz_vendas = np.array(vendas)  "
   ]
  },
  {
   "cell_type": "code",
   "execution_count": 428,
   "metadata": {},
   "outputs": [
    {
     "data": {
      "text/plain": [
       "array([[ 2,  7,  1],\n",
       "       [ 9,  4, 16],\n",
       "       [11, 14, 18],\n",
       "       [13, 13, 16],\n",
       "       [15, 18,  9]])"
      ]
     },
     "execution_count": 428,
     "metadata": {},
     "output_type": "execute_result"
    }
   ],
   "source": [
    "matriz_vendas"
   ]
  },
  {
   "cell_type": "code",
   "execution_count": 429,
   "metadata": {},
   "outputs": [],
   "source": [
    "vetor_precos = np.array(precos)"
   ]
  },
  {
   "cell_type": "code",
   "execution_count": 434,
   "metadata": {},
   "outputs": [
    {
     "data": {
      "text/plain": [
       "array([[10,  8, 12]])"
      ]
     },
     "execution_count": 434,
     "metadata": {},
     "output_type": "execute_result"
    }
   ],
   "source": [
    "vetor_precos"
   ]
  },
  {
   "cell_type": "code",
   "execution_count": 435,
   "metadata": {},
   "outputs": [
    {
     "data": {
      "text/plain": [
       "(1, 3)"
      ]
     },
     "execution_count": 435,
     "metadata": {},
     "output_type": "execute_result"
    }
   ],
   "source": [
    "vetor_precos.shape"
   ]
  },
  {
   "cell_type": "code",
   "execution_count": 436,
   "metadata": {},
   "outputs": [
    {
     "data": {
      "text/plain": [
       "(5, 3)"
      ]
     },
     "execution_count": 436,
     "metadata": {},
     "output_type": "execute_result"
    }
   ],
   "source": [
    "matriz_vendas.shape"
   ]
  },
  {
   "cell_type": "code",
   "execution_count": 438,
   "metadata": {},
   "outputs": [],
   "source": [
    "vetor_total = np.dot( matriz_vendas, vetor_precos.T)"
   ]
  },
  {
   "cell_type": "code",
   "execution_count": 486,
   "metadata": {},
   "outputs": [
    {
     "data": {
      "text/plain": [
       "array([[ 88],\n",
       "       [314],\n",
       "       [438],\n",
       "       [426],\n",
       "       [402]])"
      ]
     },
     "execution_count": 486,
     "metadata": {},
     "output_type": "execute_result"
    }
   ],
   "source": [
    "vetor_total"
   ]
  },
  {
   "cell_type": "code",
   "execution_count": 487,
   "metadata": {},
   "outputs": [],
   "source": [
    "vendas['Total'] = vetor_total"
   ]
  },
  {
   "cell_type": "code",
   "execution_count": 488,
   "metadata": {},
   "outputs": [
    {
     "data": {
      "text/html": [
       "<div>\n",
       "<style scoped>\n",
       "    .dataframe tbody tr th:only-of-type {\n",
       "        vertical-align: middle;\n",
       "    }\n",
       "\n",
       "    .dataframe tbody tr th {\n",
       "        vertical-align: top;\n",
       "    }\n",
       "\n",
       "    .dataframe thead th {\n",
       "        text-align: right;\n",
       "    }\n",
       "</style>\n",
       "<table border=\"1\" class=\"dataframe\">\n",
       "  <thead>\n",
       "    <tr style=\"text-align: right;\">\n",
       "      <th></th>\n",
       "      <th>Almond butter</th>\n",
       "      <th>Peanut butter</th>\n",
       "      <th>Cashew butter</th>\n",
       "      <th>Total</th>\n",
       "    </tr>\n",
       "  </thead>\n",
       "  <tbody>\n",
       "    <tr>\n",
       "      <th>Mon</th>\n",
       "      <td>2</td>\n",
       "      <td>7</td>\n",
       "      <td>1</td>\n",
       "      <td>88</td>\n",
       "    </tr>\n",
       "    <tr>\n",
       "      <th>Tues</th>\n",
       "      <td>9</td>\n",
       "      <td>4</td>\n",
       "      <td>16</td>\n",
       "      <td>314</td>\n",
       "    </tr>\n",
       "    <tr>\n",
       "      <th>Wed</th>\n",
       "      <td>11</td>\n",
       "      <td>14</td>\n",
       "      <td>18</td>\n",
       "      <td>438</td>\n",
       "    </tr>\n",
       "    <tr>\n",
       "      <th>Thurs</th>\n",
       "      <td>13</td>\n",
       "      <td>13</td>\n",
       "      <td>16</td>\n",
       "      <td>426</td>\n",
       "    </tr>\n",
       "    <tr>\n",
       "      <th>Fri</th>\n",
       "      <td>15</td>\n",
       "      <td>18</td>\n",
       "      <td>9</td>\n",
       "      <td>402</td>\n",
       "    </tr>\n",
       "  </tbody>\n",
       "</table>\n",
       "</div>"
      ],
      "text/plain": [
       "       Almond butter  Peanut butter  Cashew butter  Total\n",
       "Mon                2              7              1     88\n",
       "Tues               9              4             16    314\n",
       "Wed               11             14             18    438\n",
       "Thurs             13             13             16    426\n",
       "Fri               15             18              9    402"
      ]
     },
     "execution_count": 488,
     "metadata": {},
     "output_type": "execute_result"
    }
   ],
   "source": [
    "vendas"
   ]
  },
  {
   "cell_type": "markdown",
   "metadata": {},
   "source": [
    "### Ordenando Arrays"
   ]
  },
  {
   "cell_type": "code",
   "execution_count": 492,
   "metadata": {},
   "outputs": [
    {
     "data": {
      "text/plain": [
       "array([[ 1,  2,  7],\n",
       "       [ 4,  9, 16],\n",
       "       [11, 14, 18],\n",
       "       [13, 13, 16],\n",
       "       [ 9, 15, 18]])"
      ]
     },
     "execution_count": 492,
     "metadata": {},
     "output_type": "execute_result"
    }
   ],
   "source": [
    "np.sort(matriz_vendas)"
   ]
  },
  {
   "cell_type": "code",
   "execution_count": 493,
   "metadata": {},
   "outputs": [
    {
     "data": {
      "text/plain": [
       "array([[  1,   2,   7,  88],\n",
       "       [  4,   9,  16, 314],\n",
       "       [ 11,  14,  18, 438],\n",
       "       [ 13,  13,  16, 426],\n",
       "       [  9,  15,  18, 402]])"
      ]
     },
     "execution_count": 493,
     "metadata": {},
     "output_type": "execute_result"
    }
   ],
   "source": [
    "np.sort(vendas)"
   ]
  },
  {
   "cell_type": "code",
   "execution_count": 499,
   "metadata": {},
   "outputs": [],
   "source": [
    "cu = np.array([3,7,1])"
   ]
  },
  {
   "cell_type": "code",
   "execution_count": 500,
   "metadata": {},
   "outputs": [
    {
     "data": {
      "text/plain": [
       "array([2, 0, 1])"
      ]
     },
     "execution_count": 500,
     "metadata": {},
     "output_type": "execute_result"
    }
   ],
   "source": [
    "np.argsort(cu)"
   ]
  },
  {
   "cell_type": "code",
   "execution_count": 511,
   "metadata": {},
   "outputs": [
    {
     "data": {
      "text/plain": [
       "3"
      ]
     },
     "execution_count": 511,
     "metadata": {},
     "output_type": "execute_result"
    }
   ],
   "source": [
    "np.argmin(cu)"
   ]
  },
  {
   "cell_type": "code",
   "execution_count": 517,
   "metadata": {},
   "outputs": [],
   "source": [
    "cu = np.array([[[2, 2]], [[2, 1]]])"
   ]
  },
  {
   "cell_type": "code",
   "execution_count": 518,
   "metadata": {},
   "outputs": [
    {
     "data": {
      "text/plain": [
       "(2, 1, 2)"
      ]
     },
     "execution_count": 518,
     "metadata": {},
     "output_type": "execute_result"
    }
   ],
   "source": [
    "cu.shape"
   ]
  },
  {
   "cell_type": "code",
   "execution_count": 524,
   "metadata": {},
   "outputs": [
    {
     "data": {
      "text/plain": [
       "array([[0, 1]])"
      ]
     },
     "execution_count": 524,
     "metadata": {},
     "output_type": "execute_result"
    }
   ],
   "source": [
    "np.argmin(cu, axis = 0)"
   ]
  },
  {
   "cell_type": "markdown",
   "metadata": {},
   "source": [
    "# Exemplo Prático: IMAGENS como arrays"
   ]
  },
  {
   "cell_type": "markdown",
   "metadata": {},
   "source": [
    "Para carregar a imagem, tem que estar na forma de MarkDown! <#img src = 'blablabla'> (Tira o #)"
   ]
  },
  {
   "cell_type": "markdown",
   "metadata": {},
   "source": [
    "<img src = 'feijao'>"
   ]
  },
  {
   "cell_type": "code",
   "execution_count": 530,
   "metadata": {},
   "outputs": [],
   "source": [
    "from matplotlib.image import imread"
   ]
  },
  {
   "cell_type": "code",
   "execution_count": 535,
   "metadata": {},
   "outputs": [],
   "source": [
    "feijao = imread('feijao.png')"
   ]
  },
  {
   "cell_type": "code",
   "execution_count": 539,
   "metadata": {},
   "outputs": [
    {
     "data": {
      "text/plain": [
       "numpy.ndarray"
      ]
     },
     "execution_count": 539,
     "metadata": {},
     "output_type": "execute_result"
    }
   ],
   "source": [
    "type(feijao)"
   ]
  },
  {
   "cell_type": "code",
   "execution_count": 541,
   "metadata": {},
   "outputs": [
    {
     "data": {
      "text/plain": [
       "(552960, (360, 512, 3), 3)"
      ]
     },
     "execution_count": 541,
     "metadata": {},
     "output_type": "execute_result"
    }
   ],
   "source": [
    "feijao.size, feijao.shape, feijao.ndim"
   ]
  },
  {
   "cell_type": "code",
   "execution_count": 543,
   "metadata": {},
   "outputs": [
    {
     "data": {
      "text/plain": [
       "dtype('float32')"
      ]
     },
     "execution_count": 543,
     "metadata": {},
     "output_type": "execute_result"
    }
   ],
   "source": [
    "feijao.dtype\n"
   ]
  },
  {
   "cell_type": "code",
   "execution_count": 547,
   "metadata": {},
   "outputs": [
    {
     "data": {
      "text/plain": [
       "1.0"
      ]
     },
     "execution_count": 547,
     "metadata": {},
     "output_type": "execute_result"
    }
   ],
   "source": [
    "feijao[0][0][0]"
   ]
  },
  {
   "cell_type": "code",
   "execution_count": null,
   "metadata": {},
   "outputs": [],
   "source": []
  }
 ],
 "metadata": {
  "kernelspec": {
   "display_name": "Python 3",
   "language": "python",
   "name": "python3"
  },
  "language_info": {
   "codemirror_mode": {
    "name": "ipython",
    "version": 3
   },
   "file_extension": ".py",
   "mimetype": "text/x-python",
   "name": "python",
   "nbconvert_exporter": "python",
   "pygments_lexer": "ipython3",
   "version": "3.7.6"
  }
 },
 "nbformat": 4,
 "nbformat_minor": 4
}
